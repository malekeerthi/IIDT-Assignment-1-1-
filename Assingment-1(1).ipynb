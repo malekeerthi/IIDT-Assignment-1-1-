{
 "cells": [
  {
   "cell_type": "markdown",
   "id": "0adde671-090d-4d12-a0a3-07461d4882b4",
   "metadata": {},
   "source": [
    "# Python List Manipulator Task"
   ]
  },
  {
   "cell_type": "code",
   "execution_count": 1,
   "id": "42db5fe1-ef46-4893-80f4-c6ec6cbb18c2",
   "metadata": {},
   "outputs": [],
   "source": [
    "ListManipulator = []"
   ]
  },
  {
   "cell_type": "code",
   "execution_count": 2,
   "id": "b2749ede-f6ec-4126-9720-edf374bff10e",
   "metadata": {},
   "outputs": [],
   "source": [
    "ListManipulator = [\"Mahesh\",\"anusha\",\"siva\"]"
   ]
  },
  {
   "cell_type": "code",
   "execution_count": 3,
   "id": "a3a593bd-5927-4d68-98ad-d883427c1361",
   "metadata": {},
   "outputs": [
    {
     "name": "stdout",
     "output_type": "stream",
     "text": [
      "['Mahesh', 'anusha', 'siva', 'Suri']\n"
     ]
    }
   ],
   "source": [
    "# Take a list of elements ass a parameter and appends them to the internal list\n",
    "\n",
    "ListManipulator = [\"Mahesh\",\"anusha\",\"siva\"]\n",
    "ListManipulator.append(\"Suri\")\n",
    "print(ListManipulator)"
   ]
  },
  {
   "cell_type": "code",
   "execution_count": 4,
   "id": "6d62327b-7fa0-4579-a9b6-01f1bc601873",
   "metadata": {},
   "outputs": [
    {
     "name": "stdout",
     "output_type": "stream",
     "text": [
      "['Mahesh', 'anusha', 'siva', 'Suri', 'Venu']\n"
     ]
    }
   ],
   "source": [
    "# Remove Duplicate values from the internal list\n",
    "\n",
    "ListManipulator = [\"Mahesh\",\"anusha\",\"siva\",'Suri',\"Mahesh\",\"Venu\",\"Suri\"]\n",
    "new_list = []\n",
    "for item in ListManipulator:\n",
    "    if item not in new_list:\n",
    "        new_list.append(item)\n",
    "print(new_list)"
   ]
  },
  {
   "cell_type": "code",
   "execution_count": 5,
   "id": "748d4c93-84f4-47f8-b505-ad82f37ed279",
   "metadata": {},
   "outputs": [
    {
     "name": "stdout",
     "output_type": "stream",
     "text": [
      "['Suri', 'Venu', 'Mahesh', 'Suri', 'siva', 'anusha', 'Mahesh']\n"
     ]
    }
   ],
   "source": [
    "# Reverse the order of the elements in the internal list\n",
    "\n",
    "ListManipulator = [\"Mahesh\",\"anusha\",\"siva\",'Suri',\"Mahesh\",\"Venu\",\"Suri\"]\n",
    "ListManipulator.reverse()\n",
    "print(ListManipulator)"
   ]
  },
  {
   "cell_type": "code",
   "execution_count": 6,
   "id": "53460be4-a020-4ea0-a457-ec39175eefec",
   "metadata": {},
   "outputs": [
    {
     "name": "stdout",
     "output_type": "stream",
     "text": [
      "[1, 1, 2, 3, 3, 4, 5, 5, 5, 6, 9]\n"
     ]
    }
   ],
   "source": [
    "# Sort the elements in the internal list in ascending order\n",
    "\n",
    "my_list = [3, 1, 4, 1, 5, 9, 2, 6, 5, 3, 5]\n",
    "my_list.sort()\n",
    "print(my_list)"
   ]
  },
  {
   "cell_type": "code",
   "execution_count": 7,
   "id": "55e2dbcc-ef79-410c-be41-845ba37ff8a6",
   "metadata": {},
   "outputs": [
    {
     "name": "stdout",
     "output_type": "stream",
     "text": [
      "['anusha', 'Suri', 'siva', 'Mahesh', 'Venu']\n"
     ]
    }
   ],
   "source": [
    "# Get unique elements\n",
    "\n",
    "ListManipulator = [\"Mahesh\",\"anusha\",\"siva\",'Suri',\"Mahesh\",\"Venu\",\"Suri\"]\n",
    "unique_elements = list(set(ListManipulator))\n",
    "print(unique_elements)"
   ]
  },
  {
   "cell_type": "code",
   "execution_count": 8,
   "id": "4c4ed146-a8bf-4942-841c-9812eaac77cb",
   "metadata": {},
   "outputs": [
    {
     "name": "stdout",
     "output_type": "stream",
     "text": [
      "['Mahesh', 'anusha', 'siva']\n"
     ]
    }
   ],
   "source": [
    "# remove elements ass a parameter and appends them to the internal list\n",
    "\n",
    "ListManipulator = [\"Mahesh\",\"anusha\",\"siva\",\"Suri\"]\n",
    "ListManipulator.remove(\"Suri\")\n",
    "print(ListManipulator)"
   ]
  },
  {
   "cell_type": "code",
   "execution_count": 9,
   "id": "bcccf2fe-17ae-4dd8-b3e5-736bf69c5d33",
   "metadata": {},
   "outputs": [
    {
     "name": "stdout",
     "output_type": "stream",
     "text": [
      "[1, 2, 3, 4]\n"
     ]
    }
   ],
   "source": [
    "# Returns the current state of the internal list\n",
    "\n",
    "class ListManipulator:\n",
    "    def __init__(self, elements=[]):\n",
    "        self.elements = elements\n",
    "\n",
    "    def get_elements(self):\n",
    "        return self.elements\n",
    "\n",
    "# Create an instance of ListManipulator\n",
    "list_manipulator = ListManipulator([1, 2, 3, 4])\n",
    "\n",
    "# Retrieve the current state of the internal list value\n",
    "current_list_state = list_manipulator.get_elements()\n",
    "\n",
    "print(current_list_state)  # Output: [1, 2, 3, 4]"
   ]
  },
  {
   "cell_type": "code",
   "execution_count": null,
   "id": "41d64ccc-17b1-4a58-86a6-4095bc7c4e5d",
   "metadata": {},
   "outputs": [],
   "source": []
  }
 ],
 "metadata": {
  "kernelspec": {
   "display_name": "Python 3 (ipykernel)",
   "language": "python",
   "name": "python3"
  },
  "language_info": {
   "codemirror_mode": {
    "name": "ipython",
    "version": 3
   },
   "file_extension": ".py",
   "mimetype": "text/x-python",
   "name": "python",
   "nbconvert_exporter": "python",
   "pygments_lexer": "ipython3",
   "version": "3.11.7"
  }
 },
 "nbformat": 4,
 "nbformat_minor": 5
}
